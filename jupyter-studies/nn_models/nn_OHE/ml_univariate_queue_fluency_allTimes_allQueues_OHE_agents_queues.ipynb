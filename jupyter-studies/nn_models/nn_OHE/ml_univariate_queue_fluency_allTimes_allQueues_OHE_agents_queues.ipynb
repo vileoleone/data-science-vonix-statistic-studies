{
 "cells": [
  {
   "cell_type": "code",
   "execution_count": 1,
   "id": "b272c743-bb45-4bae-9b6b-09dc3115da28",
   "metadata": {},
   "outputs": [],
   "source": [
    "import pandas as pd\n",
    "import numpy as np\n",
    "from tensorflow import keras\n",
    "from  sklearn.preprocessing import MinMaxScaler, OneHotEncoder, LabelEncoder\n",
    "from statsmodels.tsa.seasonal import seasonal_decompose\n",
    "\n",
    "label_encoder = LabelEncoder()\n",
    "\n",
    "\n",
    "InputLayer = keras.layers.InputLayer()\n",
    "LSTM = keras.layers.LSTM\n",
    "Dropout = keras.layers.Dropout\n",
    "Dense = keras.layers.Dense\n",
    "skencoder = OneHotEncoder(handle_unknown='ignore',sparse=False)"
   ]
  },
  {
   "cell_type": "code",
   "execution_count": 60,
   "id": "95cbfbf3-1470-47e0-bf73-79c0da4fed39",
   "metadata": {},
   "outputs": [
    {
     "ename": "NameError",
     "evalue": "name 'mgmsales' is not defined",
     "output_type": "error",
     "traceback": [
      "\u001b[0;31m---------------------------------------------------------------------------\u001b[0m",
      "\u001b[0;31mNameError\u001b[0m                                 Traceback (most recent call last)",
      "Cell \u001b[0;32mIn[60], line 7\u001b[0m\n\u001b[1;32m      4\u001b[0m df\u001b[38;5;241m=\u001b[39m df\u001b[38;5;241m.\u001b[39mdropna(axis\u001b[38;5;241m=\u001b[39m\u001b[38;5;241m0\u001b[39m)\n\u001b[1;32m      6\u001b[0m \u001b[38;5;28;01mdel\u001b[39;00m df[\u001b[38;5;124m'\u001b[39m\u001b[38;5;124mdirection\u001b[39m\u001b[38;5;124m'\u001b[39m], df[\u001b[38;5;124m'\u001b[39m\u001b[38;5;124mlocality_id\u001b[39m\u001b[38;5;124m'\u001b[39m], df[\u001b[38;5;124m'\u001b[39m\u001b[38;5;124mcall_type_id\u001b[39m\u001b[38;5;124m'\u001b[39m], df[\u001b[38;5;124m'\u001b[39m\u001b[38;5;124mhold_secs\u001b[39m\u001b[38;5;124m'\u001b[39m], df[\u001b[38;5;124m'\u001b[39m\u001b[38;5;124mring_secs\u001b[39m\u001b[38;5;124m'\u001b[39m], df[\u001b[38;5;124m'\u001b[39m\u001b[38;5;124minitial_position\u001b[39m\u001b[38;5;124m'\u001b[39m] , df[\u001b[38;5;124m'\u001b[39m\u001b[38;5;124mcarrier_id\u001b[39m\u001b[38;5;124m'\u001b[39m], df[\u001b[38;5;124m'\u001b[39m\u001b[38;5;124mtimestamp\u001b[39m\u001b[38;5;124m'\u001b[39m], df[\u001b[38;5;124m'\u001b[39m\u001b[38;5;124mday\u001b[39m\u001b[38;5;124m'\u001b[39m], df[\u001b[38;5;124m'\u001b[39m\u001b[38;5;124mmonth\u001b[39m\u001b[38;5;124m'\u001b[39m], df[\u001b[38;5;124m'\u001b[39m\u001b[38;5;124mtrunking_id\u001b[39m\u001b[38;5;124m'\u001b[39m] \n\u001b[0;32m----> 7\u001b[0m \u001b[43mmgmsales\u001b[49m\n",
      "\u001b[0;31mNameError\u001b[0m: name 'mgmsales' is not defined"
     ]
    }
   ],
   "source": [
    "df = pd.read_csv('/Users/victoroliveira/Desktop/vonix-py-statistic/src/vonixstatisc/data/pandas_data/data_fluency_queue_no_auto_dialer.csv')\n",
    "\n",
    "df_to_dict = pd.DataFrame()\n",
    "df= df.dropna(axis=0)\n",
    "\n",
    "del df['direction'], df['locality_id'], df['call_type_id'], df['hold_secs'], df['ring_secs'], df['initial_position'] , df['carrier_id'], df['timestamp'], df['day'], df['month'], df['trunking_id'] \n",
    "mgmsales"
   ]
  },
  {
   "cell_type": "code",
   "execution_count": 26,
   "id": "f437df9f-f22f-4692-8018-99a285dafd38",
   "metadata": {},
   "outputs": [
    {
     "data": {
      "text/html": [
       "<div>\n",
       "<style scoped>\n",
       "    .dataframe tbody tr th:only-of-type {\n",
       "        vertical-align: middle;\n",
       "    }\n",
       "\n",
       "    .dataframe tbody tr th {\n",
       "        vertical-align: top;\n",
       "    }\n",
       "\n",
       "    .dataframe thead th {\n",
       "        text-align: right;\n",
       "    }\n",
       "</style>\n",
       "<table border=\"1\" class=\"dataframe\">\n",
       "  <thead>\n",
       "    <tr style=\"text-align: right;\">\n",
       "      <th></th>\n",
       "      <th>agent_id</th>\n",
       "      <th>week_day</th>\n",
       "      <th>hour</th>\n",
       "      <th>minute</th>\n",
       "      <th>handling_time</th>\n",
       "      <th>queue_id_equipez4</th>\n",
       "      <th>queue_id_equipez5</th>\n",
       "      <th>queue_id_equipez6</th>\n",
       "      <th>queue_id_isdragons</th>\n",
       "      <th>queue_id_iseagles</th>\n",
       "      <th>...</th>\n",
       "      <th>queue_id_isnnadal</th>\n",
       "      <th>queue_id_isnrecuperacao</th>\n",
       "      <th>queue_id_isnxsell</th>\n",
       "      <th>queue_id_isphoenix</th>\n",
       "      <th>queue_id_issharks</th>\n",
       "      <th>queue_id_istigers</th>\n",
       "      <th>queue_id_iswolves</th>\n",
       "      <th>queue_id_mgmsales</th>\n",
       "      <th>queue_id_mgmsdr</th>\n",
       "      <th>queue_id_timec</th>\n",
       "    </tr>\n",
       "  </thead>\n",
       "  <tbody>\n",
       "    <tr>\n",
       "      <th>0</th>\n",
       "      <td>0</td>\n",
       "      <td>4</td>\n",
       "      <td>20</td>\n",
       "      <td>2</td>\n",
       "      <td>78</td>\n",
       "      <td>1</td>\n",
       "      <td>0</td>\n",
       "      <td>0</td>\n",
       "      <td>0</td>\n",
       "      <td>0</td>\n",
       "      <td>...</td>\n",
       "      <td>0</td>\n",
       "      <td>0</td>\n",
       "      <td>0</td>\n",
       "      <td>0</td>\n",
       "      <td>0</td>\n",
       "      <td>0</td>\n",
       "      <td>0</td>\n",
       "      <td>0</td>\n",
       "      <td>0</td>\n",
       "      <td>0</td>\n",
       "    </tr>\n",
       "    <tr>\n",
       "      <th>1</th>\n",
       "      <td>0</td>\n",
       "      <td>4</td>\n",
       "      <td>21</td>\n",
       "      <td>2</td>\n",
       "      <td>3</td>\n",
       "      <td>1</td>\n",
       "      <td>0</td>\n",
       "      <td>0</td>\n",
       "      <td>0</td>\n",
       "      <td>0</td>\n",
       "      <td>...</td>\n",
       "      <td>0</td>\n",
       "      <td>0</td>\n",
       "      <td>0</td>\n",
       "      <td>0</td>\n",
       "      <td>0</td>\n",
       "      <td>0</td>\n",
       "      <td>0</td>\n",
       "      <td>0</td>\n",
       "      <td>0</td>\n",
       "      <td>0</td>\n",
       "    </tr>\n",
       "    <tr>\n",
       "      <th>2</th>\n",
       "      <td>0</td>\n",
       "      <td>4</td>\n",
       "      <td>21</td>\n",
       "      <td>2</td>\n",
       "      <td>5</td>\n",
       "      <td>1</td>\n",
       "      <td>0</td>\n",
       "      <td>0</td>\n",
       "      <td>0</td>\n",
       "      <td>0</td>\n",
       "      <td>...</td>\n",
       "      <td>0</td>\n",
       "      <td>0</td>\n",
       "      <td>0</td>\n",
       "      <td>0</td>\n",
       "      <td>0</td>\n",
       "      <td>0</td>\n",
       "      <td>0</td>\n",
       "      <td>0</td>\n",
       "      <td>0</td>\n",
       "      <td>0</td>\n",
       "    </tr>\n",
       "    <tr>\n",
       "      <th>3</th>\n",
       "      <td>0</td>\n",
       "      <td>4</td>\n",
       "      <td>21</td>\n",
       "      <td>2</td>\n",
       "      <td>2</td>\n",
       "      <td>1</td>\n",
       "      <td>0</td>\n",
       "      <td>0</td>\n",
       "      <td>0</td>\n",
       "      <td>0</td>\n",
       "      <td>...</td>\n",
       "      <td>0</td>\n",
       "      <td>0</td>\n",
       "      <td>0</td>\n",
       "      <td>0</td>\n",
       "      <td>0</td>\n",
       "      <td>0</td>\n",
       "      <td>0</td>\n",
       "      <td>0</td>\n",
       "      <td>0</td>\n",
       "      <td>0</td>\n",
       "    </tr>\n",
       "    <tr>\n",
       "      <th>4</th>\n",
       "      <td>0</td>\n",
       "      <td>4</td>\n",
       "      <td>21</td>\n",
       "      <td>2</td>\n",
       "      <td>23</td>\n",
       "      <td>1</td>\n",
       "      <td>0</td>\n",
       "      <td>0</td>\n",
       "      <td>0</td>\n",
       "      <td>0</td>\n",
       "      <td>...</td>\n",
       "      <td>0</td>\n",
       "      <td>0</td>\n",
       "      <td>0</td>\n",
       "      <td>0</td>\n",
       "      <td>0</td>\n",
       "      <td>0</td>\n",
       "      <td>0</td>\n",
       "      <td>0</td>\n",
       "      <td>0</td>\n",
       "      <td>0</td>\n",
       "    </tr>\n",
       "    <tr>\n",
       "      <th>...</th>\n",
       "      <td>...</td>\n",
       "      <td>...</td>\n",
       "      <td>...</td>\n",
       "      <td>...</td>\n",
       "      <td>...</td>\n",
       "      <td>...</td>\n",
       "      <td>...</td>\n",
       "      <td>...</td>\n",
       "      <td>...</td>\n",
       "      <td>...</td>\n",
       "      <td>...</td>\n",
       "      <td>...</td>\n",
       "      <td>...</td>\n",
       "      <td>...</td>\n",
       "      <td>...</td>\n",
       "      <td>...</td>\n",
       "      <td>...</td>\n",
       "      <td>...</td>\n",
       "      <td>...</td>\n",
       "      <td>...</td>\n",
       "      <td>...</td>\n",
       "    </tr>\n",
       "    <tr>\n",
       "      <th>117583</th>\n",
       "      <td>97</td>\n",
       "      <td>1</td>\n",
       "      <td>21</td>\n",
       "      <td>4</td>\n",
       "      <td>47</td>\n",
       "      <td>0</td>\n",
       "      <td>0</td>\n",
       "      <td>0</td>\n",
       "      <td>0</td>\n",
       "      <td>0</td>\n",
       "      <td>...</td>\n",
       "      <td>0</td>\n",
       "      <td>1</td>\n",
       "      <td>0</td>\n",
       "      <td>0</td>\n",
       "      <td>0</td>\n",
       "      <td>0</td>\n",
       "      <td>0</td>\n",
       "      <td>0</td>\n",
       "      <td>0</td>\n",
       "      <td>0</td>\n",
       "    </tr>\n",
       "    <tr>\n",
       "      <th>117584</th>\n",
       "      <td>23</td>\n",
       "      <td>1</td>\n",
       "      <td>21</td>\n",
       "      <td>4</td>\n",
       "      <td>70</td>\n",
       "      <td>0</td>\n",
       "      <td>0</td>\n",
       "      <td>0</td>\n",
       "      <td>0</td>\n",
       "      <td>0</td>\n",
       "      <td>...</td>\n",
       "      <td>0</td>\n",
       "      <td>0</td>\n",
       "      <td>0</td>\n",
       "      <td>0</td>\n",
       "      <td>0</td>\n",
       "      <td>0</td>\n",
       "      <td>0</td>\n",
       "      <td>0</td>\n",
       "      <td>0</td>\n",
       "      <td>0</td>\n",
       "    </tr>\n",
       "    <tr>\n",
       "      <th>117585</th>\n",
       "      <td>96</td>\n",
       "      <td>1</td>\n",
       "      <td>21</td>\n",
       "      <td>4</td>\n",
       "      <td>2</td>\n",
       "      <td>0</td>\n",
       "      <td>0</td>\n",
       "      <td>0</td>\n",
       "      <td>0</td>\n",
       "      <td>0</td>\n",
       "      <td>...</td>\n",
       "      <td>0</td>\n",
       "      <td>0</td>\n",
       "      <td>1</td>\n",
       "      <td>0</td>\n",
       "      <td>0</td>\n",
       "      <td>0</td>\n",
       "      <td>0</td>\n",
       "      <td>0</td>\n",
       "      <td>0</td>\n",
       "      <td>0</td>\n",
       "    </tr>\n",
       "    <tr>\n",
       "      <th>117586</th>\n",
       "      <td>121</td>\n",
       "      <td>1</td>\n",
       "      <td>21</td>\n",
       "      <td>4</td>\n",
       "      <td>4</td>\n",
       "      <td>0</td>\n",
       "      <td>0</td>\n",
       "      <td>0</td>\n",
       "      <td>0</td>\n",
       "      <td>0</td>\n",
       "      <td>...</td>\n",
       "      <td>0</td>\n",
       "      <td>0</td>\n",
       "      <td>0</td>\n",
       "      <td>0</td>\n",
       "      <td>0</td>\n",
       "      <td>0</td>\n",
       "      <td>0</td>\n",
       "      <td>1</td>\n",
       "      <td>0</td>\n",
       "      <td>0</td>\n",
       "    </tr>\n",
       "    <tr>\n",
       "      <th>117587</th>\n",
       "      <td>96</td>\n",
       "      <td>1</td>\n",
       "      <td>21</td>\n",
       "      <td>4</td>\n",
       "      <td>1</td>\n",
       "      <td>0</td>\n",
       "      <td>0</td>\n",
       "      <td>0</td>\n",
       "      <td>0</td>\n",
       "      <td>0</td>\n",
       "      <td>...</td>\n",
       "      <td>0</td>\n",
       "      <td>0</td>\n",
       "      <td>1</td>\n",
       "      <td>0</td>\n",
       "      <td>0</td>\n",
       "      <td>0</td>\n",
       "      <td>0</td>\n",
       "      <td>0</td>\n",
       "      <td>0</td>\n",
       "      <td>0</td>\n",
       "    </tr>\n",
       "  </tbody>\n",
       "</table>\n",
       "<p>115277 rows × 30 columns</p>\n",
       "</div>"
      ],
      "text/plain": [
       "        agent_id  week_day  hour  minute  handling_time  queue_id_equipez4  \\\n",
       "0              0         4    20       2             78                  1   \n",
       "1              0         4    21       2              3                  1   \n",
       "2              0         4    21       2              5                  1   \n",
       "3              0         4    21       2              2                  1   \n",
       "4              0         4    21       2             23                  1   \n",
       "...          ...       ...   ...     ...            ...                ...   \n",
       "117583        97         1    21       4             47                  0   \n",
       "117584        23         1    21       4             70                  0   \n",
       "117585        96         1    21       4              2                  0   \n",
       "117586       121         1    21       4              4                  0   \n",
       "117587        96         1    21       4              1                  0   \n",
       "\n",
       "        queue_id_equipez5  queue_id_equipez6  queue_id_isdragons  \\\n",
       "0                       0                  0                   0   \n",
       "1                       0                  0                   0   \n",
       "2                       0                  0                   0   \n",
       "3                       0                  0                   0   \n",
       "4                       0                  0                   0   \n",
       "...                   ...                ...                 ...   \n",
       "117583                  0                  0                   0   \n",
       "117584                  0                  0                   0   \n",
       "117585                  0                  0                   0   \n",
       "117586                  0                  0                   0   \n",
       "117587                  0                  0                   0   \n",
       "\n",
       "        queue_id_iseagles  ...  queue_id_isnnadal  queue_id_isnrecuperacao  \\\n",
       "0                       0  ...                  0                        0   \n",
       "1                       0  ...                  0                        0   \n",
       "2                       0  ...                  0                        0   \n",
       "3                       0  ...                  0                        0   \n",
       "4                       0  ...                  0                        0   \n",
       "...                   ...  ...                ...                      ...   \n",
       "117583                  0  ...                  0                        1   \n",
       "117584                  0  ...                  0                        0   \n",
       "117585                  0  ...                  0                        0   \n",
       "117586                  0  ...                  0                        0   \n",
       "117587                  0  ...                  0                        0   \n",
       "\n",
       "        queue_id_isnxsell  queue_id_isphoenix  queue_id_issharks  \\\n",
       "0                       0                   0                  0   \n",
       "1                       0                   0                  0   \n",
       "2                       0                   0                  0   \n",
       "3                       0                   0                  0   \n",
       "4                       0                   0                  0   \n",
       "...                   ...                 ...                ...   \n",
       "117583                  0                   0                  0   \n",
       "117584                  0                   0                  0   \n",
       "117585                  1                   0                  0   \n",
       "117586                  0                   0                  0   \n",
       "117587                  1                   0                  0   \n",
       "\n",
       "        queue_id_istigers  queue_id_iswolves  queue_id_mgmsales  \\\n",
       "0                       0                  0                  0   \n",
       "1                       0                  0                  0   \n",
       "2                       0                  0                  0   \n",
       "3                       0                  0                  0   \n",
       "4                       0                  0                  0   \n",
       "...                   ...                ...                ...   \n",
       "117583                  0                  0                  0   \n",
       "117584                  0                  0                  0   \n",
       "117585                  0                  0                  0   \n",
       "117586                  0                  0                  1   \n",
       "117587                  0                  0                  0   \n",
       "\n",
       "        queue_id_mgmsdr  queue_id_timec  \n",
       "0                     0               0  \n",
       "1                     0               0  \n",
       "2                     0               0  \n",
       "3                     0               0  \n",
       "4                     0               0  \n",
       "...                 ...             ...  \n",
       "117583                0               0  \n",
       "117584                0               0  \n",
       "117585                0               0  \n",
       "117586                0               0  \n",
       "117587                0               0  \n",
       "\n",
       "[115277 rows x 30 columns]"
      ]
     },
     "execution_count": 26,
     "metadata": {},
     "output_type": "execute_result"
    }
   ],
   "source": [
    "df_to_ml = pd.get_dummies(df, prefix=None, dummy_na=False, columns=None, sparse=False, drop_first=False, dtype=None)\n",
    "df_to_ml['agent_id'] =label_encoder.fit_transform(df_to_ml['agent_id'])\n",
    "#sk_data = skencoder.fit_transform(df)\n",
    "#sk_data, sk_data.shape\n",
    "#skencoder.get_feature_names_out()\n",
    "df_to_ml"
   ]
  },
  {
   "cell_type": "code",
   "execution_count": 54,
   "id": "5b01476b",
   "metadata": {},
   "outputs": [],
   "source": [
    "df_to_ml.iloc[:, 0:].values\n",
    "x_train = df_to_ml.iloc[:, 0:].values[:, 4:5]"
   ]
  },
  {
   "cell_type": "code",
   "execution_count": 50,
   "id": "411f5cf5",
   "metadata": {},
   "outputs": [],
   "source": [
    "normalizador = MinMaxScaler(feature_range = (0,1))\n",
    "base_treinamento_normalizada = normalizador.fit_transform(df_to_ml)"
   ]
  },
  {
   "cell_type": "code",
   "execution_count": 51,
   "id": "13a99862",
   "metadata": {},
   "outputs": [
    {
     "data": {
      "text/plain": [
       "(115277, 30)"
      ]
     },
     "execution_count": 51,
     "metadata": {},
     "output_type": "execute_result"
    }
   ],
   "source": [
    "base_treinamento_normalizada.shape"
   ]
  },
  {
   "cell_type": "code",
   "execution_count": 52,
   "id": "e21b7e0f",
   "metadata": {},
   "outputs": [],
   "source": [
    "previsores = []\n",
    "tempo_real = []"
   ]
  },
  {
   "cell_type": "code",
   "execution_count": 31,
   "id": "0db84741",
   "metadata": {},
   "outputs": [],
   "source": [
    "for i in range(1, 115277):\n",
    "    previsores.append(base_treinamento_normalizada[i-1:i, 0:30])\n",
    "    tempo_real.append(base_treinamento_normalizada[i,4])"
   ]
  },
  {
   "cell_type": "code",
   "execution_count": 32,
   "id": "c7a488f1",
   "metadata": {},
   "outputs": [],
   "source": [
    "#previsores"
   ]
  },
  {
   "cell_type": "code",
   "execution_count": 33,
   "id": "92e47303",
   "metadata": {},
   "outputs": [],
   "source": [
    "previsores, tempo_real = np.array(previsores), np.array(tempo_real)\n",
    "previsores= np.reshape(previsores, (previsores.shape[0], previsores.shape[1],30))"
   ]
  },
  {
   "cell_type": "code",
   "execution_count": 34,
   "id": "20686e39",
   "metadata": {},
   "outputs": [
    {
     "data": {
      "text/plain": [
       "(115276, 1, 30)"
      ]
     },
     "execution_count": 34,
     "metadata": {},
     "output_type": "execute_result"
    }
   ],
   "source": [
    "previsores.shape[0:]"
   ]
  },
  {
   "cell_type": "code",
   "execution_count": 35,
   "id": "f9709980-5bda-42d6-ae47-ca695a2475b7",
   "metadata": {},
   "outputs": [],
   "source": [
    "#pd.DataFrame(tempo_real)"
   ]
  },
  {
   "cell_type": "code",
   "execution_count": 36,
   "id": "6274c686",
   "metadata": {},
   "outputs": [],
   "source": [
    "regressor = keras.models.Sequential()\n",
    "#camadas inicial\n",
    "regressor.add(LSTM(units = 100, return_sequences = True, input_shape=(1,30)))\n",
    "regressor.add(Dropout(0.3))     \n",
    "\n",
    "#camadas\n",
    "regressor.add(LSTM(units = 50, return_sequences = True))\n",
    "regressor.add(Dropout(0.3))    \n",
    "\n",
    "regressor.add(LSTM(units = 50, return_sequences = True))\n",
    "regressor.add(Dropout(0.3))  \n",
    "\n",
    "regressor.add(LSTM(units = 50, return_sequences = True))\n",
    "regressor.add(Dropout(0.3)) \n",
    "\n",
    "regressor.add(LSTM(units = 50, return_sequences = True))\n",
    "regressor.add(Dropout(0.3)) \n",
    "\n",
    "regressor.add(LSTM(units = 50, return_sequences = True))\n",
    "regressor.add(Dropout(0.3)) \n",
    "\n",
    "regressor.add(LSTM(units = 50, return_sequences = True))\n",
    "regressor.add(Dropout(0.3)) \n",
    "\n",
    "#camadas finais\n",
    "regressor.add(LSTM(units = 50))\n",
    "regressor.add(Dropout(0.3)) \n",
    "\n",
    "regressor.add(Dense(units = 1, activation = 'sigmoid'))\n",
    "\n",
    "regressor.compile(optimizer = 'adam', loss = 'binary_crossentropy', metrics = ['accuracy'])\n",
    "\n"
   ]
  },
  {
   "cell_type": "code",
   "execution_count": 37,
   "id": "1adfbb9a",
   "metadata": {},
   "outputs": [],
   "source": [
    "from keras.callbacks import EarlyStopping, ReduceLROnPlateau, ModelCheckpoint"
   ]
  },
  {
   "cell_type": "code",
   "execution_count": 38,
   "id": "f5b392e6",
   "metadata": {},
   "outputs": [],
   "source": [
    "es = EarlyStopping(monitor = 'loss', min_delta = 1e-10, patience = 10 , verbose =1)\n",
    "rlr = ReduceLROnPlateau(monitor = 'loss', factoe = 0.2, patience = 5, verbose = 1)\n",
    "mcp = ModelCheckpoint(filepath = 'pesos.h5', monitor = 'loss', save_best_only = True)"
   ]
  },
  {
   "cell_type": "code",
   "execution_count": 39,
   "id": "4e119082",
   "metadata": {},
   "outputs": [
    {
     "name": "stdout",
     "output_type": "stream",
     "text": [
      "Epoch 1/10\n",
      "385/385 [==============================] - 7s 8ms/step - loss: 0.1669 - accuracy: 0.1446 - lr: 0.0010\n",
      "Epoch 2/10\n",
      "385/385 [==============================] - 3s 9ms/step - loss: 0.0946 - accuracy: 0.1448 - lr: 0.0010\n",
      "Epoch 3/10\n",
      "385/385 [==============================] - 3s 8ms/step - loss: 0.0944 - accuracy: 0.1448 - lr: 0.0010\n",
      "Epoch 4/10\n",
      "385/385 [==============================] - 3s 8ms/step - loss: 0.0944 - accuracy: 0.1448 - lr: 0.0010\n",
      "Epoch 5/10\n",
      "385/385 [==============================] - 3s 8ms/step - loss: 0.0945 - accuracy: 0.1448 - lr: 0.0010\n",
      "Epoch 6/10\n",
      "385/385 [==============================] - 3s 8ms/step - loss: 0.0945 - accuracy: 0.1448 - lr: 0.0010\n",
      "Epoch 7/10\n",
      "385/385 [==============================] - 3s 8ms/step - loss: 0.0944 - accuracy: 0.1448 - lr: 0.0010\n",
      "Epoch 8/10\n",
      "379/385 [============================>.] - ETA: 0s - loss: 0.0942 - accuracy: 0.1448\n",
      "Epoch 8: ReduceLROnPlateau reducing learning rate to 0.00010000000474974513.\n",
      "385/385 [==============================] - 3s 8ms/step - loss: 0.0944 - accuracy: 0.1448 - lr: 0.0010\n",
      "Epoch 9/10\n",
      "385/385 [==============================] - 3s 8ms/step - loss: 0.0943 - accuracy: 0.1448 - lr: 1.0000e-04\n",
      "Epoch 10/10\n",
      "385/385 [==============================] - 3s 8ms/step - loss: 0.0943 - accuracy: 0.1448 - lr: 1.0000e-04\n"
     ]
    },
    {
     "data": {
      "text/plain": [
       "<keras.callbacks.History at 0x177cae9b0>"
      ]
     },
     "execution_count": 39,
     "metadata": {},
     "output_type": "execute_result"
    }
   ],
   "source": [
    "regressor.fit(previsores, tempo_real, epochs = 10, batch_size = 300, callbacks = [es, rlr, mcp])"
   ]
  },
  {
   "cell_type": "code",
   "execution_count": 40,
   "id": "017f78fd",
   "metadata": {},
   "outputs": [
    {
     "name": "stderr",
     "output_type": "stream",
     "text": [
      "/opt/homebrew/anaconda3/envs/machine-learning/lib/python3.10/site-packages/sklearn/base.py:439: UserWarning: X does not have valid feature names, but MinMaxScaler was fitted with feature names\n",
      "  warnings.warn(\n"
     ]
    },
    {
     "data": {
      "text/plain": [
       "(9033, 30)"
      ]
     },
     "execution_count": 40,
     "metadata": {},
     "output_type": "execute_result"
    }
   ],
   "source": [
    "data_to_predict = pd.read_csv('/Users/victoroliveira/Desktop/vonix-py-statistic/jupyter-studies/nn_models/nn_OHE/test_data.csv')\n",
    "\n",
    "data_to_predict = data_to_predict.to_numpy()\n",
    "data_to_predict\n",
    "y_real = data_to_predict[:, 5:6]\n",
    "y_real\n",
    "normalizador_pred = MinMaxScaler(feature_range = (0,1))\n",
    "normalizador_pred.fit_transform(data_to_predict[:, 5:6])\n",
    "\n",
    "data_predict = []\n",
    "data_predict_normalizada = normalizador.transform(data_to_predict)\n",
    "\n",
    "data_predict_normalizada.shape"
   ]
  },
  {
   "cell_type": "code",
   "execution_count": 41,
   "id": "deb9932f-2367-4d45-bb28-380afa6290bf",
   "metadata": {},
   "outputs": [
    {
     "data": {
      "text/plain": [
       "(9032, 1, 30)"
      ]
     },
     "execution_count": 41,
     "metadata": {},
     "output_type": "execute_result"
    }
   ],
   "source": [
    "for i in range(1, 9033):\n",
    "    data_predict.append(data_predict_normalizada[i-1:i, 0:30])\n",
    "data_predict = np.array(data_predict)\n",
    "data_predict= np.reshape(data_predict, (data_predict.shape[0], data_predict.shape[1],30)) # to help to know the shape\n",
    "data_predict.shape"
   ]
  },
  {
   "cell_type": "code",
   "execution_count": 42,
   "id": "577f4f49-2691-4f4a-93f4-b25930425bd5",
   "metadata": {},
   "outputs": [
    {
     "name": "stdout",
     "output_type": "stream",
     "text": [
      "283/283 [==============================] - 1s 820us/step\n"
     ]
    },
    {
     "data": {
      "text/plain": [
       "array([[215.87094],\n",
       "       [215.87094],\n",
       "       [215.87094],\n",
       "       ...,\n",
       "       [215.87094],\n",
       "       [215.87094],\n",
       "       [215.87094]], dtype=float32)"
      ]
     },
     "execution_count": 42,
     "metadata": {},
     "output_type": "execute_result"
    }
   ],
   "source": [
    "results_real = regressor.predict(data_predict)\n",
    "\n",
    "y_test = normalizador_pred.inverse_transform(results_real)\n",
    "y_test"
   ]
  },
  {
   "cell_type": "code",
   "execution_count": 57,
   "id": "70784b72-cc14-448f-8396-07aeea790aa2",
   "metadata": {},
   "outputs": [
    {
     "data": {
      "image/png": "[encoded data removed]",
      "text/plain": [
       "<Figure size 640x480 with 1 Axes>"
      ]
     },
     "metadata": {},
     "output_type": "display_data"
    }
   ],
   "source": [
    "import matplotlib.pyplot as plt\n",
    "plt.plot(y_test, color = 'blue', label = 'previsões')\n",
    "plt.plot(y_real, color = 'red', label = 'tempo_real')\n",
    "plt.title('Previsões de calls próximas')\n",
    "plt.xlabel('progresso')\n",
    "plt.ylabel('tempo de chamada')\n",
    "plt.legend()\n",
    "plt.show()"
   ]
  },
  {
   "cell_type": "code",
   "execution_count": 55,
   "id": "2a19b869-b4a3-4e22-8519-04b120a9c001",
   "metadata": {},
   "outputs": [
    {
     "data": {
      "image/png": "[encoded data removed]",
      "text/plain": [
       "<Figure size 640x480 with 1 Axes>"
      ]
     },
     "metadata": {},
     "output_type": "display_data"
    }
   ],
   "source": [
    "plt.plot(x_train, color = 'blue', label = 'x_train')\n",
    "plt.plot(y_real, color = 'red', label = 'media_real')\n",
    "plt.title('Previsões de médias próximas')\n",
    "plt.xlabel('progresso')\n",
    "plt.ylabel('média')\n",
    "plt.legend()\n",
    "plt.show()"
   ]
  },
  {
   "cell_type": "code",
   "execution_count": null,
   "id": "1056b27f-e22d-4553-942b-5c2d04feb73b",
   "metadata": {},
   "outputs": [],
   "source": []
  }
 ],
 "metadata": {
  "kernelspec": {
   "display_name": "Python 3 (ipykernel)",
   "language": "python",
   "name": "python3"
  },
  "language_info": {
   "codemirror_mode": {
    "name": "ipython",
    "version": 3
   },
   "file_extension": ".py",
   "mimetype": "text/x-python",
   "name": "python",
   "nbconvert_exporter": "python",
   "pygments_lexer": "ipython3",
   "version": "3.10.11"
  }
 },
 "nbformat": 4,
 "nbformat_minor": 5
}
